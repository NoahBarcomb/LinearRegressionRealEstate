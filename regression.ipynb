{
 "cells": [
  {
   "cell_type": "code",
   "execution_count": 3,
   "id": "dae98dca-95d5-4c58-a91f-1666c8447c02",
   "metadata": {},
   "outputs": [],
   "source": [
    "from sklearn.feature_selection import f_classif\n",
    "from sklearn.preprocessing import OneHotEncoder, StandardScaler\n",
    "import matplotlib.pyplot as plt\n",
    "import seaborn as sns\n",
    "import pandas\n",
    "from sklearn.model_selection import train_test_split, cross_val_score\n",
    "from sklearn.linear_model import LinearRegression\n",
    "from sklearn.metrics import r2_score, mean_squared_error"
   ]
  },
  {
   "cell_type": "code",
   "execution_count": 4,
   "id": "463db21a-da8b-4f4e-a289-b6bc65ccea53",
   "metadata": {},
   "outputs": [],
   "source": [
    "df = pandas.read_csv(r\"C:\\Users\\ballc\\OneDrive\\Documents\\Desktop\\data analytics week 10\\Real_Estate_Sales_2001-2022_GL.csv\", low_memory = False)"
   ]
  },
  {
   "cell_type": "code",
   "execution_count": 5,
   "id": "37e448da-2e66-44cb-9f46-c295c1aeca67",
   "metadata": {},
   "outputs": [],
   "source": [
    "#Question 1:\n",
    "#This dataset contains over 800,000 rows about real estate sales from 2001-2022. It has column headings like List Year Town Address Assessed Value Sale Amount Property Type Residential Type, that\n",
    "#are similar to datasets we have covered when learning about regression analysis. It has predictor variables, a good target variable, and plenty of data to accurately predict.\n",
    "#My prediction goal is to estimate the future cost of houses by using the predictor variables mentioned above"
   ]
  },
  {
   "cell_type": "code",
   "execution_count": 6,
   "id": "055e8afd-791d-443d-bb0b-7e23fb40c68a",
   "metadata": {},
   "outputs": [],
   "source": [
    "#Question 2\n",
    "\n",
    "#predictor variables: Town, Date Recorded, List Year, Sales Ratio\n",
    "#target variable: Sale Amount\n",
    "#drop unwanted columns that have many n/a/null and duplicate values before removing n/a/null and duplicate values so dataset does not shrink so much"
   ]
  },
  {
   "cell_type": "code",
   "execution_count": 7,
   "id": "f63da884-cce8-46a1-8351-86392dd44380",
   "metadata": {},
   "outputs": [],
   "source": [
    "unwanted_features = ['Non Use Code', 'Assessor Remarks', 'OPM remarks', 'Location', 'Serial Number', 'Address', 'Date Recorded']\n"
   ]
  },
  {
   "cell_type": "code",
   "execution_count": 8,
   "id": "9bd7393a-56e6-4d50-a2aa-e4bcf2a0f72d",
   "metadata": {},
   "outputs": [],
   "source": [
    "df = df.drop(columns = unwanted_features)\n"
   ]
  },
  {
   "cell_type": "code",
   "execution_count": 9,
   "id": "77b7b227-47d8-4453-b5a1-9ae031c8427b",
   "metadata": {},
   "outputs": [
    {
     "name": "stdout",
     "output_type": "stream",
     "text": [
      "         List Year          Town  Assessed Value  Sale Amount  Sales Ratio  \\\n",
      "0             2020       Ansonia        133000.0     248400.0       0.5354   \n",
      "1             2020       Ansonia        110500.0     239900.0       0.4606   \n",
      "2             2020       Ansonia        150500.0     325000.0       0.4630   \n",
      "3             2020       Ansonia        127400.0     202500.0       0.6291   \n",
      "4             2020          Avon        217640.0     400000.0       0.5441   \n",
      "...            ...           ...             ...          ...          ...   \n",
      "1097624       2022      Stamford        483380.0     865000.0       0.5588   \n",
      "1097625       2022  Wethersfield         20650.0     760857.0       0.0271   \n",
      "1097626       2022      Stamford        132900.0     220000.0       0.6040   \n",
      "1097627       2022  Old Saybrook       1099400.0    1575000.0       0.6980   \n",
      "1097628       2022   Southington        135860.0     330000.0       0.4117   \n",
      "\n",
      "        Property Type Residential Type  \n",
      "0         Residential    Single Family  \n",
      "1         Residential     Three Family  \n",
      "2          Commercial              NaN  \n",
      "3         Residential       Two Family  \n",
      "4         Residential    Single Family  \n",
      "...               ...              ...  \n",
      "1097624   Residential    Single Family  \n",
      "1097625   Residential    Single Family  \n",
      "1097626   Residential            Condo  \n",
      "1097627   Residential    Single Family  \n",
      "1097628   Residential    Single Family  \n",
      "\n",
      "[1097629 rows x 7 columns]\n"
     ]
    }
   ],
   "source": [
    "print(df)"
   ]
  },
  {
   "cell_type": "code",
   "execution_count": 10,
   "id": "fea11706-5348-46ea-b523-f489994902ee",
   "metadata": {},
   "outputs": [
    {
     "name": "stdout",
     "output_type": "stream",
     "text": [
      "[!] Size of dataset before dropping na and duplicate values: 7683403\n"
     ]
    }
   ],
   "source": [
    "#drop na\n",
    "print(f\"[!] Size of dataset before dropping na and duplicate values: {df.size}\")\n",
    "df = df.dropna()"
   ]
  },
  {
   "cell_type": "code",
   "execution_count": 11,
   "id": "419943fc-22c8-434f-a047-8b772c496a4c",
   "metadata": {},
   "outputs": [
    {
     "name": "stdout",
     "output_type": "stream",
     "text": [
      "[!] Size of dataset after dropping na and duplicate values: 4833248\n"
     ]
    }
   ],
   "source": [
    "#drop duplicates\n",
    "df = df.drop_duplicates()\n",
    "\n",
    "print(f\"[!] Size of dataset after dropping na and duplicate values: {df.size}\")"
   ]
  },
  {
   "cell_type": "code",
   "execution_count": 12,
   "id": "61cc4438-8a7b-4c7d-a898-22dda4d68f25",
   "metadata": {},
   "outputs": [],
   "source": [
    "#boxplot to identify outliers\n",
    "numeric_cols = ['Assessed Value', 'List Year', 'Sales Ratio']"
   ]
  },
  {
   "cell_type": "code",
   "execution_count": 16,
   "id": "7e2c1467-d5cd-41c0-90f5-984b871d8471",
   "metadata": {},
   "outputs": [
    {
     "data": {
      "text/plain": [
       "<Figure size 1000x800 with 0 Axes>"
      ]
     },
     "metadata": {},
     "output_type": "display_data"
    }
   ],
   "source": [
    "fig = plt.figure(figsize = (10, 8))\n"
   ]
  },
  {
   "cell_type": "code",
   "execution_count": 18,
   "id": "0b1795b7-78a5-47be-a79c-aab2a1e19b62",
   "metadata": {},
   "outputs": [
    {
     "data": {
      "image/png": "[encoded data removed]",
      "text/plain": [
       "<Figure size 1000x800 with 3 Axes>"
      ]
     },
     "metadata": {},
     "output_type": "display_data"
    }
   ],
   "source": [
    "fig = plt.figure(figsize=(10, 8))\n",
    "for i in range(len(numeric_cols)):\n",
    "    column = numeric_cols[i]\n",
    "    sub = fig.add_subplot(2, 3, i + 1)\n",
    "    sns.boxplot(x=column, data=df)\n",
    "plt.tight_layout()  # Adjust layout\n",
    "plt.show()  "
   ]
  },
  {
   "cell_type": "code",
   "execution_count": 19,
   "id": "0e3b9c7f-82f0-42df-9584-a0b69dc97a22",
   "metadata": {},
   "outputs": [],
   "source": [
    "#tight_layout is needed on Jupyter"
   ]
  },
  {
   "cell_type": "code",
   "execution_count": 20,
   "id": "ee41096f-63de-4d5d-8b2d-635b227dc8d1",
   "metadata": {},
   "outputs": [],
   "source": [
    "#q1 = .25\n",
    "#q2 = .50\n",
    "#q3 = .75\n",
    "#q4 = 1.00\n",
    "q1 = df[numeric_cols].quantile(0.25)\n",
    "q3 = df[numeric_cols].quantile(0.75)\n",
    "iqr = q3 - q1"
   ]
  },
  {
   "cell_type": "code",
   "execution_count": 21,
   "id": "364382bc-3ebc-4f99-9b40-3ec4a41e9d24",
   "metadata": {},
   "outputs": [],
   "source": [
    "#define outlier thresholds\n",
    "lower_bound = q1 - 1.5 * iqr\n",
    "upper_bound = q3 + 1.5 * iqr"
   ]
  },
  {
   "cell_type": "code",
   "execution_count": 22,
   "id": "572ddafc-a716-417a-9f9c-16193502a58b",
   "metadata": {},
   "outputs": [
    {
     "name": "stdout",
     "output_type": "stream",
     "text": [
      "Assessed Value   -95100.000000\n",
      "List Year          1999.000000\n",
      "Sales Ratio           0.167163\n",
      "dtype: float64\n"
     ]
    }
   ],
   "source": [
    "print(lower_bound)"
   ]
  },
  {
   "cell_type": "code",
   "execution_count": 23,
   "id": "0965aa60-41ea-44bd-b326-606fdd56f725",
   "metadata": {},
   "outputs": [
    {
     "name": "stdout",
     "output_type": "stream",
     "text": [
      "Assessed Value    454180.000000\n",
      "List Year           2031.000000\n",
      "Sales Ratio            1.197395\n",
      "dtype: float64\n"
     ]
    }
   ],
   "source": [
    "print(upper_bound)"
   ]
  },
  {
   "cell_type": "code",
   "execution_count": 24,
   "id": "efe1e2aa-c1cb-40ae-9b1d-1826d51c1ab8",
   "metadata": {},
   "outputs": [],
   "source": [
    "#create a boolean mask for rows without outliers\n",
    "mask = (df[numeric_cols] >= lower_bound) & (df[numeric_cols] <= upper_bound)"
   ]
  },
  {
   "cell_type": "code",
   "execution_count": 25,
   "id": "83985a4a-a0b4-427b-93dc-69144b3cbf11",
   "metadata": {},
   "outputs": [],
   "source": [
    "#keep only rows without outliers\n",
    "df = df[mask.all(axis = 1)]"
   ]
  },
  {
   "cell_type": "code",
   "execution_count": 26,
   "id": "9ae7158a-5e9f-4851-8214-79f9068c1161",
   "metadata": {},
   "outputs": [
    {
     "name": "stdout",
     "output_type": "stream",
     "text": [
      "DF without outliers: \n",
      "         List Year         Town  Assessed Value  Sale Amount  Sales Ratio  \\\n",
      "0             2020      Ansonia        133000.0     248400.0     0.535400   \n",
      "1             2020      Ansonia        110500.0     239900.0     0.460600   \n",
      "3             2020      Ansonia        127400.0     202500.0     0.629100   \n",
      "4             2020         Avon        217640.0     400000.0     0.544100   \n",
      "6             2020  Barkhamsted        203530.0     415000.0     0.490434   \n",
      "...            ...          ...             ...          ...          ...   \n",
      "1097620       2022    Waterbury         57178.0     105000.0     0.544500   \n",
      "1097621       2022      Windham         92250.0     265000.0     0.348100   \n",
      "1097622       2022     Stamford        183890.0     340000.0     0.540800   \n",
      "1097623       2022      Norwalk        274580.0     803000.0     0.341900   \n",
      "1097628       2022  Southington        135860.0     330000.0     0.411700   \n",
      "\n",
      "        Property Type Residential Type  \n",
      "0         Residential    Single Family  \n",
      "1         Residential     Three Family  \n",
      "3         Residential       Two Family  \n",
      "4         Residential    Single Family  \n",
      "6         Residential    Single Family  \n",
      "...               ...              ...  \n",
      "1097620   Residential            Condo  \n",
      "1097621   Residential    Single Family  \n",
      "1097622   Residential            Condo  \n",
      "1097623   Residential    Single Family  \n",
      "1097628   Residential    Single Family  \n",
      "\n",
      "[565778 rows x 7 columns]\n"
     ]
    }
   ],
   "source": [
    "print(\"DF without outliers: \")\n",
    "print(df)"
   ]
  },
  {
   "cell_type": "code",
   "execution_count": 27,
   "id": "32d47e38-4e85-464a-801f-4703fb84c01b",
   "metadata": {},
   "outputs": [],
   "source": [
    "#convert categorical into numerical\n",
    "property_unique = df['Property Type'].unique()\n",
    "residential_unique = df['Residential Type'].unique()"
   ]
  },
  {
   "cell_type": "code",
   "execution_count": 28,
   "id": "ebc808e7-7fa6-49b1-a19c-eb794d7a8e17",
   "metadata": {},
   "outputs": [],
   "source": [
    "mapping = {value: i for i, value in enumerate(property_unique)}\n",
    "df['Property Type'] = df['Property Type'].map(mapping)\n",
    "mapping = {value: i for i, value in enumerate(residential_unique)}\n",
    "df['Residential Type'] = df['Residential Type'].map(mapping)"
   ]
  },
  {
   "cell_type": "code",
   "execution_count": 29,
   "id": "4b344896-f70f-44d5-a8c5-ef46f54f1fe3",
   "metadata": {},
   "outputs": [],
   "source": [
    "#inconsistent values: Chattanooga != CHATTAnooga etc\n",
    "df['Town'] = df['Town'].str.lower().str.strip()"
   ]
  },
  {
   "cell_type": "code",
   "execution_count": 30,
   "id": "b1b8e686-47b3-4170-9acb-7949de869120",
   "metadata": {},
   "outputs": [],
   "source": [
    "encoder = OneHotEncoder(sparse_output = False)"
   ]
  },
  {
   "cell_type": "code",
   "execution_count": 31,
   "id": "19ae1457-f833-46ff-9d2b-b94029161382",
   "metadata": {},
   "outputs": [],
   "source": [
    "#One-Hot encoding is similar to converting categorical features into numerical but seperates them out into columns instead of just replacing the values."
   ]
  },
  {
   "cell_type": "code",
   "execution_count": 32,
   "id": "d43ec336-e7d1-44d3-b3e2-45d83aba0caa",
   "metadata": {},
   "outputs": [],
   "source": [
    "#In this case, it was useful to use it for the Town column because although the values were fixed, there are many of them, and it is compatible with a numerical setup like the Anova Test."
   ]
  },
  {
   "cell_type": "code",
   "execution_count": 33,
   "id": "db487aa6-5440-476b-82d5-f9d32928938a",
   "metadata": {},
   "outputs": [
    {
     "name": "stdout",
     "output_type": "stream",
     "text": [
      "DataFrame After One-Hot Encoding:\n",
      "   List Year  Assessed Value  Sale Amount  Sales Ratio  Property Type  \\\n",
      "0       2020        133000.0     248400.0     0.535400              0   \n",
      "1       2020        110500.0     239900.0     0.460600              0   \n",
      "3       2020        127400.0     202500.0     0.629100              0   \n",
      "4       2020        217640.0     400000.0     0.544100              0   \n",
      "6       2020        203530.0     415000.0     0.490434              0   \n",
      "\n",
      "   Residential Type  Town_***unknown***  Town_andover  Town_ansonia  \\\n",
      "0                 0                 0.0           0.0           1.0   \n",
      "1                 1                 0.0           0.0           1.0   \n",
      "3                 2                 0.0           0.0           1.0   \n",
      "4                 0                 0.0           0.0           0.0   \n",
      "6                 0                 0.0           0.0           0.0   \n",
      "\n",
      "   Town_ashford  ...  Town_willington  Town_wilton  Town_winchester  \\\n",
      "0           0.0  ...              0.0          0.0              0.0   \n",
      "1           0.0  ...              0.0          0.0              0.0   \n",
      "3           0.0  ...              0.0          0.0              0.0   \n",
      "4           0.0  ...              0.0          0.0              0.0   \n",
      "6           0.0  ...              0.0          0.0              0.0   \n",
      "\n",
      "   Town_windham  Town_windsor  Town_windsor locks  Town_wolcott  \\\n",
      "0           0.0           0.0                 0.0           0.0   \n",
      "1           0.0           0.0                 0.0           0.0   \n",
      "3           0.0           0.0                 0.0           0.0   \n",
      "4           0.0           0.0                 0.0           0.0   \n",
      "6           0.0           0.0                 0.0           0.0   \n",
      "\n",
      "   Town_woodbridge  Town_woodbury  Town_woodstock  \n",
      "0              0.0            0.0             0.0  \n",
      "1              0.0            0.0             0.0  \n",
      "3              0.0            0.0             0.0  \n",
      "4              0.0            0.0             0.0  \n",
      "6              0.0            0.0             0.0  \n",
      "\n",
      "[5 rows x 176 columns]\n"
     ]
    }
   ],
   "source": [
    "# Fit and transform the 'Town' column\n",
    "encoded_town = encoder.fit_transform(df[['Town']])\n",
    "encoded_town_df = pandas.DataFrame(encoded_town, columns=encoder.get_feature_names_out(), index = df.index)\n",
    "\n",
    "# Join the encoded columns to the original DataFrame and drop the 'Town' column\n",
    "df = df.join(encoded_town_df).drop(columns = ['Town'])\n",
    "\n",
    "print(\"DataFrame After One-Hot Encoding:\")\n",
    "print(df.head())"
   ]
  },
  {
   "cell_type": "code",
   "execution_count": 34,
   "id": "f64b3a77-52f5-4a6e-8294-bff40d303664",
   "metadata": {},
   "outputs": [],
   "source": [
    "#Question 3\n",
    "\n",
    "#feature scaling\n",
    "\n",
    "scaler = StandardScaler()"
   ]
  },
  {
   "cell_type": "code",
   "execution_count": 35,
   "id": "8605ec8d-7105-4e7d-8831-aad3895cc1c6",
   "metadata": {},
   "outputs": [],
   "source": [
    "df[['Assessed Value', 'Sales Ratio']] = scaler.fit_transform(df[['Assessed Value', 'Sales Ratio']])\n"
   ]
  },
  {
   "cell_type": "code",
   "execution_count": 36,
   "id": "98ea412e-8392-4b3b-b905-503d6d845ff9",
   "metadata": {},
   "outputs": [],
   "source": [
    "#ANOVA Test setup & execution\n"
   ]
  },
  {
   "cell_type": "code",
   "execution_count": 37,
   "id": "1ee638c6-8175-44ab-b49c-ff8605b1fc14",
   "metadata": {},
   "outputs": [],
   "source": [
    "x = df.drop(columns = ['Sale Amount'])\n",
    "y = df['Sale Amount']"
   ]
  },
  {
   "cell_type": "code",
   "execution_count": 38,
   "id": "8a9501b3-7f0e-42f4-98e7-0a3f388d0400",
   "metadata": {},
   "outputs": [],
   "source": [
    "f_scores, p_values = f_classif(x, y)"
   ]
  },
  {
   "cell_type": "code",
   "execution_count": 39,
   "id": "9182c286-20b6-4bdd-8f3f-f731b35f29d7",
   "metadata": {},
   "outputs": [
    {
     "name": "stdout",
     "output_type": "stream",
     "text": [
      "feature: List Year, p-value: 0.0\n",
      "feature: Assessed Value, p-value: 0.0\n",
      "feature: Sales Ratio, p-value: 0.0\n",
      "feature: Property Type, p-value: 0.0\n",
      "feature: Residential Type, p-value: 0.0\n",
      "feature: Town_***unknown***, p-value: 0.0\n",
      "feature: Town_andover, p-value: 6.894430248049314e-250\n",
      "feature: Town_ansonia, p-value: 0.9999999999999999\n",
      "feature: Town_ashford, p-value: 0.9999999999999999\n",
      "feature: Town_avon, p-value: 0.9999999999999999\n",
      "feature: Town_barkhamsted, p-value: 0.9999999999999999\n",
      "feature: Town_beacon falls, p-value: 1.148233202798016e-258\n",
      "feature: Town_berlin, p-value: 1.0656284359908386e-41\n",
      "feature: Town_bethany, p-value: 0.9999999999999999\n",
      "feature: Town_bethel, p-value: 0.0\n",
      "feature: Town_bethlehem, p-value: 1.8024680396048197e-125\n",
      "feature: Town_bloomfield, p-value: 3.1143927611852214e-13\n",
      "feature: Town_bolton, p-value: 0.9999999999999999\n",
      "feature: Town_bozrah, p-value: 0.9999999999999999\n",
      "feature: Town_branford, p-value: 0.9999999737300526\n",
      "feature: Town_bridgeport, p-value: 2.472148511611127e-138\n",
      "feature: Town_bridgewater, p-value: 5.688266316826616e-95\n",
      "feature: Town_bristol, p-value: 0.9999999999999999\n",
      "feature: Town_brookfield, p-value: 9.123832282184423e-158\n",
      "feature: Town_brooklyn, p-value: 0.0003674737531046796\n",
      "feature: Town_burlington, p-value: 2.4882585060032497e-297\n",
      "feature: Town_canaan, p-value: 8.119e-320\n",
      "feature: Town_canterbury, p-value: 0.9999999999999999\n",
      "feature: Town_canton, p-value: 5.431152462937887e-18\n",
      "feature: Town_chaplin, p-value: 0.020744101029666822\n",
      "feature: Town_cheshire, p-value: 0.0\n",
      "feature: Town_chester, p-value: 0.9999999999999999\n",
      "feature: Town_clinton, p-value: 5.310072696787191e-11\n",
      "feature: Town_colchester, p-value: 2.547789954092547e-18\n",
      "feature: Town_colebrook, p-value: 0.9999999999999999\n",
      "feature: Town_columbia, p-value: 0.19269184186743826\n",
      "feature: Town_cornwall, p-value: 0.9999999999999999\n",
      "feature: Town_coventry, p-value: 6.371058049735369e-113\n",
      "feature: Town_cromwell, p-value: 0.9999999505351524\n",
      "feature: Town_danbury, p-value: 9.048999167842896e-76\n",
      "feature: Town_darien, p-value: 0.0\n",
      "feature: Town_deep river, p-value: 0.9999999999999999\n",
      "feature: Town_derby, p-value: 0.9999999999999999\n",
      "feature: Town_durham, p-value: 0.9999999999999999\n",
      "feature: Town_east granby, p-value: 0.9995261810101532\n",
      "feature: Town_east haddam, p-value: 0.9999999999999999\n",
      "feature: Town_east hampton, p-value: 0.0\n",
      "feature: Town_east hartford, p-value: 4.650674671562661e-270\n",
      "feature: Town_east haven, p-value: 0.9999999999999999\n",
      "feature: Town_east lyme, p-value: 3.3763449895208805e-127\n",
      "feature: Town_east windsor, p-value: 2.827636759597319e-210\n",
      "feature: Town_eastford, p-value: 0.9999999999999999\n",
      "feature: Town_easton, p-value: 3.327192496490826e-301\n",
      "feature: Town_ellington, p-value: 0.0\n",
      "feature: Town_enfield, p-value: 0.9999999999999999\n",
      "feature: Town_essex, p-value: 8.722937251723057e-131\n",
      "feature: Town_fairfield, p-value: 0.0\n",
      "feature: Town_farmington, p-value: 0.0\n",
      "feature: Town_franklin, p-value: 0.9999999999999999\n",
      "feature: Town_glastonbury, p-value: 4.2871242612272313e-38\n",
      "feature: Town_goshen, p-value: 0.9999999999999999\n",
      "feature: Town_granby, p-value: 0.9999999999999999\n",
      "feature: Town_greenwich, p-value: 0.0\n",
      "feature: Town_griswold, p-value: 7.502422934707267e-08\n",
      "feature: Town_groton, p-value: 0.8277964681119696\n",
      "feature: Town_guilford, p-value: 1.0589848782210136e-67\n",
      "feature: Town_haddam, p-value: 8.016645216770982e-188\n",
      "feature: Town_hamden, p-value: 0.9999999999999999\n",
      "feature: Town_hampton, p-value: 0.9999999999999999\n",
      "feature: Town_hartford, p-value: 0.0\n",
      "feature: Town_hartland, p-value: 0.9999999999999999\n",
      "feature: Town_harwinton, p-value: 5.347081924366673e-10\n",
      "feature: Town_hebron, p-value: 1.7540340546096616e-08\n",
      "feature: Town_kent, p-value: 3.026248618076376e-49\n",
      "feature: Town_killingly, p-value: 0.10697139166290541\n",
      "feature: Town_killingworth, p-value: 3.700398378661221e-118\n",
      "feature: Town_lebanon, p-value: 0.9999999999999999\n",
      "feature: Town_ledyard, p-value: 0.9999999999999999\n",
      "feature: Town_lisbon, p-value: 4.729192841418017e-236\n",
      "feature: Town_litchfield, p-value: 2.9078834533123436e-132\n",
      "feature: Town_lyme, p-value: 3.9838447689698957e-13\n",
      "feature: Town_madison, p-value: 1.4421786305900454e-271\n",
      "feature: Town_manchester, p-value: 0.9884805605230944\n",
      "feature: Town_mansfield, p-value: 0.9999999999652052\n",
      "feature: Town_marlborough, p-value: 0.9999999999999999\n",
      "feature: Town_meriden, p-value: 6.774317887134013e-16\n",
      "feature: Town_middlebury, p-value: 0.0\n",
      "feature: Town_middlefield, p-value: 0.9999999997744964\n",
      "feature: Town_middletown, p-value: 8.03737999252511e-24\n",
      "feature: Town_milford, p-value: 0.9999999999999999\n",
      "feature: Town_monroe, p-value: 0.0039750462199599525\n",
      "feature: Town_montville, p-value: 0.4250080665724301\n",
      "feature: Town_morris, p-value: 0.9999999999999999\n",
      "feature: Town_naugatuck, p-value: 5.878958122606852e-15\n",
      "feature: Town_new britain, p-value: 4.889658494578051e-261\n",
      "feature: Town_new canaan, p-value: 0.9999999999999999\n",
      "feature: Town_new fairfield, p-value: 0.6752475157549473\n",
      "feature: Town_new hartford, p-value: 0.9999999998148122\n",
      "feature: Town_new haven, p-value: 0.9342777563638969\n",
      "feature: Town_new london, p-value: 6.049097100143337e-22\n",
      "feature: Town_new milford, p-value: 0.9999994783189103\n",
      "feature: Town_newington, p-value: 0.9999999999999999\n",
      "feature: Town_newtown, p-value: 0.0\n",
      "feature: Town_norfolk, p-value: 0.9999999999999999\n",
      "feature: Town_north branford, p-value: 0.9947790735406719\n",
      "feature: Town_north canaan, p-value: 4.921336686089921e-13\n",
      "feature: Town_north haven, p-value: 7.731566855365067e-158\n",
      "feature: Town_north stonington, p-value: 0.9998526785023941\n",
      "feature: Town_norwalk, p-value: 1.8884748819683206e-223\n",
      "feature: Town_norwich, p-value: 7.29612468603441e-78\n",
      "feature: Town_old lyme, p-value: 0.9999999999999521\n",
      "feature: Town_old saybrook, p-value: 0.9910149730688368\n",
      "feature: Town_orange, p-value: 3.6096571847230683e-17\n",
      "feature: Town_oxford, p-value: 0.0\n",
      "feature: Town_plainfield, p-value: 0.9999999999999999\n",
      "feature: Town_plainville, p-value: 1.914326750437714e-270\n",
      "feature: Town_plymouth, p-value: 3.152403882906393e-21\n",
      "feature: Town_pomfret, p-value: 0.9999999999999999\n",
      "feature: Town_portland, p-value: 0.9999999999999999\n",
      "feature: Town_preston, p-value: 0.9999999999999999\n",
      "feature: Town_prospect, p-value: 0.0\n",
      "feature: Town_putnam, p-value: 0.984157822720348\n",
      "feature: Town_redding, p-value: 2.4183534678381536e-262\n",
      "feature: Town_ridgefield, p-value: 0.0\n",
      "feature: Town_rocky hill, p-value: 0.9999999999999999\n",
      "feature: Town_roxbury, p-value: 2.2784871805116806e-172\n",
      "feature: Town_salem, p-value: 1.7296634919065472e-137\n",
      "feature: Town_salisbury, p-value: 0.9999999999999999\n",
      "feature: Town_scotland, p-value: 0.9999999999999999\n",
      "feature: Town_seymour, p-value: 4.778687784074633e-23\n",
      "feature: Town_sharon, p-value: 0.0013181162957743387\n",
      "feature: Town_shelton, p-value: 3.496383309582452e-14\n",
      "feature: Town_sherman, p-value: 1.593515755504387e-05\n",
      "feature: Town_simsbury, p-value: 6.188888208094013e-30\n",
      "feature: Town_somers, p-value: 5.334605046461665e-213\n",
      "feature: Town_south windsor, p-value: 6.715119890472948e-95\n",
      "feature: Town_southbury, p-value: 0.9999999999999999\n",
      "feature: Town_southington, p-value: 0.0\n",
      "feature: Town_sprague, p-value: 0.9999999999999999\n",
      "feature: Town_stafford, p-value: 0.999999999999992\n",
      "feature: Town_stamford, p-value: 0.0\n",
      "feature: Town_sterling, p-value: 0.9999999999999999\n",
      "feature: Town_stonington, p-value: 2.0818978060175298e-66\n",
      "feature: Town_stratford, p-value: 0.9999999999999999\n",
      "feature: Town_suffield, p-value: 3.005899054101221e-242\n",
      "feature: Town_thomaston, p-value: 0.9999999999999999\n",
      "feature: Town_thompson, p-value: 0.9999999999999999\n",
      "feature: Town_tolland, p-value: 6.939290413218282e-25\n",
      "feature: Town_torrington, p-value: 7.122543545117067e-152\n",
      "feature: Town_trumbull, p-value: 1.6669110092354498e-26\n",
      "feature: Town_union, p-value: 0.9999999999999999\n",
      "feature: Town_vernon, p-value: 3.9518646002178355e-45\n",
      "feature: Town_voluntown, p-value: 0.9999999999999999\n",
      "feature: Town_wallingford, p-value: 1.0122862272236633e-59\n",
      "feature: Town_warren, p-value: 7.7877509760663885e-224\n",
      "feature: Town_washington, p-value: 2.456197928689147e-215\n",
      "feature: Town_waterbury, p-value: 0.0\n",
      "feature: Town_waterford, p-value: 0.9999999999999999\n",
      "feature: Town_watertown, p-value: 0.9999999999999999\n",
      "feature: Town_west hartford, p-value: 0.9999999999999999\n",
      "feature: Town_west haven, p-value: 0.9999999999999999\n",
      "feature: Town_westbrook, p-value: 6.897039763967842e-62\n",
      "feature: Town_weston, p-value: 0.0\n",
      "feature: Town_westport, p-value: 0.0\n",
      "feature: Town_wethersfield, p-value: 0.9999999999999999\n",
      "feature: Town_willington, p-value: 0.9999999999999999\n",
      "feature: Town_wilton, p-value: 0.0\n",
      "feature: Town_winchester, p-value: 0.5855676821684976\n",
      "feature: Town_windham, p-value: 1.1524051517426047e-17\n",
      "feature: Town_windsor, p-value: 4.937979800648519e-117\n",
      "feature: Town_windsor locks, p-value: 0.9999999999999999\n",
      "feature: Town_wolcott, p-value: 1.0946748913939425e-170\n",
      "feature: Town_woodbridge, p-value: 0.9459003418709399\n",
      "feature: Town_woodbury, p-value: 0.9704873355020255\n",
      "feature: Town_woodstock, p-value: 0.9999999999999999\n"
     ]
    }
   ],
   "source": [
    "#display p-values\n",
    "for feature, p_val in zip(x.columns, p_values):\n",
    "    print(f'feature: {feature}, p-value: {p_val}')"
   ]
  },
  {
   "cell_type": "code",
   "execution_count": 40,
   "id": "b35be606-c0a9-415e-810d-6f7a56cd9799",
   "metadata": {},
   "outputs": [],
   "source": [
    "#there are multiple unrelated features here, remove them now"
   ]
  },
  {
   "cell_type": "code",
   "execution_count": 41,
   "id": "0ac2adcd-7ca1-4967-803b-a502b50e421f",
   "metadata": {},
   "outputs": [],
   "source": [
    "significant_features = [feature for feature, p_val in zip(x.columns, p_values) if p_val < 0.05]\n",
    "x_significant = x[significant_features]"
   ]
  },
  {
   "cell_type": "code",
   "execution_count": 42,
   "id": "1b78d4bb-8e4a-4ce8-8371-eae57d7e37d5",
   "metadata": {},
   "outputs": [],
   "source": [
    "#Question 4\n"
   ]
  },
  {
   "cell_type": "code",
   "execution_count": 43,
   "id": "a246effc-6da6-4901-a61d-df5042288097",
   "metadata": {},
   "outputs": [],
   "source": [
    "x_train, x_test, y_train, y_test = train_test_split(x_significant, y, test_size = 0.2, random_state = 42)\n"
   ]
  },
  {
   "cell_type": "code",
   "execution_count": 44,
   "id": "e403378d-410d-4972-a79c-a7ccf6ce04d0",
   "metadata": {},
   "outputs": [],
   "source": [
    "model = LinearRegression()"
   ]
  },
  {
   "cell_type": "code",
   "execution_count": 45,
   "id": "05c0efd9-7da2-49c0-8320-e62c59fa8944",
   "metadata": {},
   "outputs": [],
   "source": [
    "#cross-validation\n",
    "cv_scores = cross_val_score(model, x_train, y_train, cv = 10)"
   ]
  },
  {
   "cell_type": "code",
   "execution_count": 46,
   "id": "daad1d42-6e1c-475f-bbdc-1eaaa54fe3f4",
   "metadata": {},
   "outputs": [
    {
     "data": {
      "text/html": [
       "<style>#sk-container-id-1 {\n",
       "  /* Definition of color scheme common for light and dark mode */\n",
       "  --sklearn-color-text: black;\n",
       "  --sklearn-color-line: gray;\n",
       "  /* Definition of color scheme for unfitted estimators */\n",
       "  --sklearn-color-unfitted-level-0: #fff5e6;\n",
       "  --sklearn-color-unfitted-level-1: #f6e4d2;\n",
       "  --sklearn-color-unfitted-level-2: #ffe0b3;\n",
       "  --sklearn-color-unfitted-level-3: chocolate;\n",
       "  /* Definition of color scheme for fitted estimators */\n",
       "  --sklearn-color-fitted-level-0: #f0f8ff;\n",
       "  --sklearn-color-fitted-level-1: #d4ebff;\n",
       "  --sklearn-color-fitted-level-2: #b3dbfd;\n",
       "  --sklearn-color-fitted-level-3: cornflowerblue;\n",
       "\n",
       "  /* Specific color for light theme */\n",
       "  --sklearn-color-text-on-default-background: var(--sg-text-color, var(--theme-code-foreground, var(--jp-content-font-color1, black)));\n",
       "  --sklearn-color-background: var(--sg-background-color, var(--theme-background, var(--jp-layout-color0, white)));\n",
       "  --sklearn-color-border-box: var(--sg-text-color, var(--theme-code-foreground, var(--jp-content-font-color1, black)));\n",
       "  --sklearn-color-icon: #696969;\n",
       "\n",
       "  @media (prefers-color-scheme: dark) {\n",
       "    /* Redefinition of color scheme for dark theme */\n",
       "    --sklearn-color-text-on-default-background: var(--sg-text-color, var(--theme-code-foreground, var(--jp-content-font-color1, white)));\n",
       "    --sklearn-color-background: var(--sg-background-color, var(--theme-background, var(--jp-layout-color0, #111)));\n",
       "    --sklearn-color-border-box: var(--sg-text-color, var(--theme-code-foreground, var(--jp-content-font-color1, white)));\n",
       "    --sklearn-color-icon: #878787;\n",
       "  }\n",
       "}\n",
       "\n",
       "#sk-container-id-1 {\n",
       "  color: var(--sklearn-color-text);\n",
       "}\n",
       "\n",
       "#sk-container-id-1 pre {\n",
       "  padding: 0;\n",
       "}\n",
       "\n",
       "#sk-container-id-1 input.sk-hidden--visually {\n",
       "  border: 0;\n",
       "  clip: rect(1px 1px 1px 1px);\n",
       "  clip: rect(1px, 1px, 1px, 1px);\n",
       "  height: 1px;\n",
       "  margin: -1px;\n",
       "  overflow: hidden;\n",
       "  padding: 0;\n",
       "  position: absolute;\n",
       "  width: 1px;\n",
       "}\n",
       "\n",
       "#sk-container-id-1 div.sk-dashed-wrapped {\n",
       "  border: 1px dashed var(--sklearn-color-line);\n",
       "  margin: 0 0.4em 0.5em 0.4em;\n",
       "  box-sizing: border-box;\n",
       "  padding-bottom: 0.4em;\n",
       "  background-color: var(--sklearn-color-background);\n",
       "}\n",
       "\n",
       "#sk-container-id-1 div.sk-container {\n",
       "  /* jupyter's `normalize.less` sets `[hidden] { display: none; }`\n",
       "     but bootstrap.min.css set `[hidden] { display: none !important; }`\n",
       "     so we also need the `!important` here to be able to override the\n",
       "     default hidden behavior on the sphinx rendered scikit-learn.org.\n",
       "     See: https://github.com/scikit-learn/scikit-learn/issues/21755 */\n",
       "  display: inline-block !important;\n",
       "  position: relative;\n",
       "}\n",
       "\n",
       "#sk-container-id-1 div.sk-text-repr-fallback {\n",
       "  display: none;\n",
       "}\n",
       "\n",
       "div.sk-parallel-item,\n",
       "div.sk-serial,\n",
       "div.sk-item {\n",
       "  /* draw centered vertical line to link estimators */\n",
       "  background-image: linear-gradient(var(--sklearn-color-text-on-default-background), var(--sklearn-color-text-on-default-background));\n",
       "  background-size: 2px 100%;\n",
       "  background-repeat: no-repeat;\n",
       "  background-position: center center;\n",
       "}\n",
       "\n",
       "/* Parallel-specific style estimator block */\n",
       "\n",
       "#sk-container-id-1 div.sk-parallel-item::after {\n",
       "  content: \"\";\n",
       "  width: 100%;\n",
       "  border-bottom: 2px solid var(--sklearn-color-text-on-default-background);\n",
       "  flex-grow: 1;\n",
       "}\n",
       "\n",
       "#sk-container-id-1 div.sk-parallel {\n",
       "  display: flex;\n",
       "  align-items: stretch;\n",
       "  justify-content: center;\n",
       "  background-color: var(--sklearn-color-background);\n",
       "  position: relative;\n",
       "}\n",
       "\n",
       "#sk-container-id-1 div.sk-parallel-item {\n",
       "  display: flex;\n",
       "  flex-direction: column;\n",
       "}\n",
       "\n",
       "#sk-container-id-1 div.sk-parallel-item:first-child::after {\n",
       "  align-self: flex-end;\n",
       "  width: 50%;\n",
       "}\n",
       "\n",
       "#sk-container-id-1 div.sk-parallel-item:last-child::after {\n",
       "  align-self: flex-start;\n",
       "  width: 50%;\n",
       "}\n",
       "\n",
       "#sk-container-id-1 div.sk-parallel-item:only-child::after {\n",
       "  width: 0;\n",
       "}\n",
       "\n",
       "/* Serial-specific style estimator block */\n",
       "\n",
       "#sk-container-id-1 div.sk-serial {\n",
       "  display: flex;\n",
       "  flex-direction: column;\n",
       "  align-items: center;\n",
       "  background-color: var(--sklearn-color-background);\n",
       "  padding-right: 1em;\n",
       "  padding-left: 1em;\n",
       "}\n",
       "\n",
       "\n",
       "/* Toggleable style: style used for estimator/Pipeline/ColumnTransformer box that is\n",
       "clickable and can be expanded/collapsed.\n",
       "- Pipeline and ColumnTransformer use this feature and define the default style\n",
       "- Estimators will overwrite some part of the style using the `sk-estimator` class\n",
       "*/\n",
       "\n",
       "/* Pipeline and ColumnTransformer style (default) */\n",
       "\n",
       "#sk-container-id-1 div.sk-toggleable {\n",
       "  /* Default theme specific background. It is overwritten whether we have a\n",
       "  specific estimator or a Pipeline/ColumnTransformer */\n",
       "  background-color: var(--sklearn-color-background);\n",
       "}\n",
       "\n",
       "/* Toggleable label */\n",
       "#sk-container-id-1 label.sk-toggleable__label {\n",
       "  cursor: pointer;\n",
       "  display: block;\n",
       "  width: 100%;\n",
       "  margin-bottom: 0;\n",
       "  padding: 0.5em;\n",
       "  box-sizing: border-box;\n",
       "  text-align: center;\n",
       "}\n",
       "\n",
       "#sk-container-id-1 label.sk-toggleable__label-arrow:before {\n",
       "  /* Arrow on the left of the label */\n",
       "  content: \"▸\";\n",
       "  float: left;\n",
       "  margin-right: 0.25em;\n",
       "  color: var(--sklearn-color-icon);\n",
       "}\n",
       "\n",
       "#sk-container-id-1 label.sk-toggleable__label-arrow:hover:before {\n",
       "  color: var(--sklearn-color-text);\n",
       "}\n",
       "\n",
       "/* Toggleable content - dropdown */\n",
       "\n",
       "#sk-container-id-1 div.sk-toggleable__content {\n",
       "  max-height: 0;\n",
       "  max-width: 0;\n",
       "  overflow: hidden;\n",
       "  text-align: left;\n",
       "  /* unfitted */\n",
       "  background-color: var(--sklearn-color-unfitted-level-0);\n",
       "}\n",
       "\n",
       "#sk-container-id-1 div.sk-toggleable__content.fitted {\n",
       "  /* fitted */\n",
       "  background-color: var(--sklearn-color-fitted-level-0);\n",
       "}\n",
       "\n",
       "#sk-container-id-1 div.sk-toggleable__content pre {\n",
       "  margin: 0.2em;\n",
       "  border-radius: 0.25em;\n",
       "  color: var(--sklearn-color-text);\n",
       "  /* unfitted */\n",
       "  background-color: var(--sklearn-color-unfitted-level-0);\n",
       "}\n",
       "\n",
       "#sk-container-id-1 div.sk-toggleable__content.fitted pre {\n",
       "  /* unfitted */\n",
       "  background-color: var(--sklearn-color-fitted-level-0);\n",
       "}\n",
       "\n",
       "#sk-container-id-1 input.sk-toggleable__control:checked~div.sk-toggleable__content {\n",
       "  /* Expand drop-down */\n",
       "  max-height: 200px;\n",
       "  max-width: 100%;\n",
       "  overflow: auto;\n",
       "}\n",
       "\n",
       "#sk-container-id-1 input.sk-toggleable__control:checked~label.sk-toggleable__label-arrow:before {\n",
       "  content: \"▾\";\n",
       "}\n",
       "\n",
       "/* Pipeline/ColumnTransformer-specific style */\n",
       "\n",
       "#sk-container-id-1 div.sk-label input.sk-toggleable__control:checked~label.sk-toggleable__label {\n",
       "  color: var(--sklearn-color-text);\n",
       "  background-color: var(--sklearn-color-unfitted-level-2);\n",
       "}\n",
       "\n",
       "#sk-container-id-1 div.sk-label.fitted input.sk-toggleable__control:checked~label.sk-toggleable__label {\n",
       "  background-color: var(--sklearn-color-fitted-level-2);\n",
       "}\n",
       "\n",
       "/* Estimator-specific style */\n",
       "\n",
       "/* Colorize estimator box */\n",
       "#sk-container-id-1 div.sk-estimator input.sk-toggleable__control:checked~label.sk-toggleable__label {\n",
       "  /* unfitted */\n",
       "  background-color: var(--sklearn-color-unfitted-level-2);\n",
       "}\n",
       "\n",
       "#sk-container-id-1 div.sk-estimator.fitted input.sk-toggleable__control:checked~label.sk-toggleable__label {\n",
       "  /* fitted */\n",
       "  background-color: var(--sklearn-color-fitted-level-2);\n",
       "}\n",
       "\n",
       "#sk-container-id-1 div.sk-label label.sk-toggleable__label,\n",
       "#sk-container-id-1 div.sk-label label {\n",
       "  /* The background is the default theme color */\n",
       "  color: var(--sklearn-color-text-on-default-background);\n",
       "}\n",
       "\n",
       "/* On hover, darken the color of the background */\n",
       "#sk-container-id-1 div.sk-label:hover label.sk-toggleable__label {\n",
       "  color: var(--sklearn-color-text);\n",
       "  background-color: var(--sklearn-color-unfitted-level-2);\n",
       "}\n",
       "\n",
       "/* Label box, darken color on hover, fitted */\n",
       "#sk-container-id-1 div.sk-label.fitted:hover label.sk-toggleable__label.fitted {\n",
       "  color: var(--sklearn-color-text);\n",
       "  background-color: var(--sklearn-color-fitted-level-2);\n",
       "}\n",
       "\n",
       "/* Estimator label */\n",
       "\n",
       "#sk-container-id-1 div.sk-label label {\n",
       "  font-family: monospace;\n",
       "  font-weight: bold;\n",
       "  display: inline-block;\n",
       "  line-height: 1.2em;\n",
       "}\n",
       "\n",
       "#sk-container-id-1 div.sk-label-container {\n",
       "  text-align: center;\n",
       "}\n",
       "\n",
       "/* Estimator-specific */\n",
       "#sk-container-id-1 div.sk-estimator {\n",
       "  font-family: monospace;\n",
       "  border: 1px dotted var(--sklearn-color-border-box);\n",
       "  border-radius: 0.25em;\n",
       "  box-sizing: border-box;\n",
       "  margin-bottom: 0.5em;\n",
       "  /* unfitted */\n",
       "  background-color: var(--sklearn-color-unfitted-level-0);\n",
       "}\n",
       "\n",
       "#sk-container-id-1 div.sk-estimator.fitted {\n",
       "  /* fitted */\n",
       "  background-color: var(--sklearn-color-fitted-level-0);\n",
       "}\n",
       "\n",
       "/* on hover */\n",
       "#sk-container-id-1 div.sk-estimator:hover {\n",
       "  /* unfitted */\n",
       "  background-color: var(--sklearn-color-unfitted-level-2);\n",
       "}\n",
       "\n",
       "#sk-container-id-1 div.sk-estimator.fitted:hover {\n",
       "  /* fitted */\n",
       "  background-color: var(--sklearn-color-fitted-level-2);\n",
       "}\n",
       "\n",
       "/* Specification for estimator info (e.g. \"i\" and \"?\") */\n",
       "\n",
       "/* Common style for \"i\" and \"?\" */\n",
       "\n",
       ".sk-estimator-doc-link,\n",
       "a:link.sk-estimator-doc-link,\n",
       "a:visited.sk-estimator-doc-link {\n",
       "  float: right;\n",
       "  font-size: smaller;\n",
       "  line-height: 1em;\n",
       "  font-family: monospace;\n",
       "  background-color: var(--sklearn-color-background);\n",
       "  border-radius: 1em;\n",
       "  height: 1em;\n",
       "  width: 1em;\n",
       "  text-decoration: none !important;\n",
       "  margin-left: 1ex;\n",
       "  /* unfitted */\n",
       "  border: var(--sklearn-color-unfitted-level-1) 1pt solid;\n",
       "  color: var(--sklearn-color-unfitted-level-1);\n",
       "}\n",
       "\n",
       ".sk-estimator-doc-link.fitted,\n",
       "a:link.sk-estimator-doc-link.fitted,\n",
       "a:visited.sk-estimator-doc-link.fitted {\n",
       "  /* fitted */\n",
       "  border: var(--sklearn-color-fitted-level-1) 1pt solid;\n",
       "  color: var(--sklearn-color-fitted-level-1);\n",
       "}\n",
       "\n",
       "/* On hover */\n",
       "div.sk-estimator:hover .sk-estimator-doc-link:hover,\n",
       ".sk-estimator-doc-link:hover,\n",
       "div.sk-label-container:hover .sk-estimator-doc-link:hover,\n",
       ".sk-estimator-doc-link:hover {\n",
       "  /* unfitted */\n",
       "  background-color: var(--sklearn-color-unfitted-level-3);\n",
       "  color: var(--sklearn-color-background);\n",
       "  text-decoration: none;\n",
       "}\n",
       "\n",
       "div.sk-estimator.fitted:hover .sk-estimator-doc-link.fitted:hover,\n",
       ".sk-estimator-doc-link.fitted:hover,\n",
       "div.sk-label-container:hover .sk-estimator-doc-link.fitted:hover,\n",
       ".sk-estimator-doc-link.fitted:hover {\n",
       "  /* fitted */\n",
       "  background-color: var(--sklearn-color-fitted-level-3);\n",
       "  color: var(--sklearn-color-background);\n",
       "  text-decoration: none;\n",
       "}\n",
       "\n",
       "/* Span, style for the box shown on hovering the info icon */\n",
       ".sk-estimator-doc-link span {\n",
       "  display: none;\n",
       "  z-index: 9999;\n",
       "  position: relative;\n",
       "  font-weight: normal;\n",
       "  right: .2ex;\n",
       "  padding: .5ex;\n",
       "  margin: .5ex;\n",
       "  width: min-content;\n",
       "  min-width: 20ex;\n",
       "  max-width: 50ex;\n",
       "  color: var(--sklearn-color-text);\n",
       "  box-shadow: 2pt 2pt 4pt #999;\n",
       "  /* unfitted */\n",
       "  background: var(--sklearn-color-unfitted-level-0);\n",
       "  border: .5pt solid var(--sklearn-color-unfitted-level-3);\n",
       "}\n",
       "\n",
       ".sk-estimator-doc-link.fitted span {\n",
       "  /* fitted */\n",
       "  background: var(--sklearn-color-fitted-level-0);\n",
       "  border: var(--sklearn-color-fitted-level-3);\n",
       "}\n",
       "\n",
       ".sk-estimator-doc-link:hover span {\n",
       "  display: block;\n",
       "}\n",
       "\n",
       "/* \"?\"-specific style due to the `<a>` HTML tag */\n",
       "\n",
       "#sk-container-id-1 a.estimator_doc_link {\n",
       "  float: right;\n",
       "  font-size: 1rem;\n",
       "  line-height: 1em;\n",
       "  font-family: monospace;\n",
       "  background-color: var(--sklearn-color-background);\n",
       "  border-radius: 1rem;\n",
       "  height: 1rem;\n",
       "  width: 1rem;\n",
       "  text-decoration: none;\n",
       "  /* unfitted */\n",
       "  color: var(--sklearn-color-unfitted-level-1);\n",
       "  border: var(--sklearn-color-unfitted-level-1) 1pt solid;\n",
       "}\n",
       "\n",
       "#sk-container-id-1 a.estimator_doc_link.fitted {\n",
       "  /* fitted */\n",
       "  border: var(--sklearn-color-fitted-level-1) 1pt solid;\n",
       "  color: var(--sklearn-color-fitted-level-1);\n",
       "}\n",
       "\n",
       "/* On hover */\n",
       "#sk-container-id-1 a.estimator_doc_link:hover {\n",
       "  /* unfitted */\n",
       "  background-color: var(--sklearn-color-unfitted-level-3);\n",
       "  color: var(--sklearn-color-background);\n",
       "  text-decoration: none;\n",
       "}\n",
       "\n",
       "#sk-container-id-1 a.estimator_doc_link.fitted:hover {\n",
       "  /* fitted */\n",
       "  background-color: var(--sklearn-color-fitted-level-3);\n",
       "}\n",
       "</style><div id=\"sk-container-id-1\" class=\"sk-top-container\"><div class=\"sk-text-repr-fallback\"><pre>LinearRegression()</pre><b>In a Jupyter environment, please rerun this cell to show the HTML representation or trust the notebook. <br />On GitHub, the HTML representation is unable to render, please try loading this page with nbviewer.org.</b></div><div class=\"sk-container\" hidden><div class=\"sk-item\"><div class=\"sk-estimator fitted sk-toggleable\"><input class=\"sk-toggleable__control sk-hidden--visually\" id=\"sk-estimator-id-1\" type=\"checkbox\" checked><label for=\"sk-estimator-id-1\" class=\"sk-toggleable__label fitted sk-toggleable__label-arrow fitted\">&nbsp;&nbsp;LinearRegression<a class=\"sk-estimator-doc-link fitted\" rel=\"noreferrer\" target=\"_blank\" href=\"https://scikit-learn.org/1.5/modules/generated/sklearn.linear_model.LinearRegression.html\">?<span>Documentation for LinearRegression</span></a><span class=\"sk-estimator-doc-link fitted\">i<span>Fitted</span></span></label><div class=\"sk-toggleable__content fitted\"><pre>LinearRegression()</pre></div> </div></div></div></div>"
      ],
      "text/plain": [
       "LinearRegression()"
      ]
     },
     "execution_count": 46,
     "metadata": {},
     "output_type": "execute_result"
    }
   ],
   "source": [
    "#train\n",
    "model.fit(x_train, y_train)"
   ]
  },
  {
   "cell_type": "code",
   "execution_count": 47,
   "id": "43fd91b6-84dc-475a-8206-0c1952444ff7",
   "metadata": {},
   "outputs": [],
   "source": [
    "#predict & evaluate\n",
    "y_pred = model.predict(x_test)\n",
    "r2 = r2_score(y_test, y_pred)"
   ]
  },
  {
   "cell_type": "code",
   "execution_count": 48,
   "id": "afae3818-abb8-4ad6-8dbc-51b73f622545",
   "metadata": {},
   "outputs": [
    {
     "name": "stdout",
     "output_type": "stream",
     "text": [
      "Actual: 312371.0, Predicted: 382215.85065459786\n",
      "Actual: 285000.0, Predicted: 295048.1037694014\n",
      "Actual: 112500.0, Predicted: 124460.36475173547\n",
      "Actual: 26000.0, Predicted: -56740.67663472489\n",
      "Actual: 200000.0, Predicted: 191188.34564437787\n"
     ]
    }
   ],
   "source": [
    "for actual, predicted in zip(y_test[:5], y_pred[:5]):\n",
    "    print(f\"Actual: {actual}, Predicted: {predicted}\")"
   ]
  },
  {
   "cell_type": "code",
   "execution_count": 49,
   "id": "9f704f29-4edf-4968-873a-c63d8ae6dd6e",
   "metadata": {},
   "outputs": [
    {
     "name": "stdout",
     "output_type": "stream",
     "text": [
      "R-squared: 0.9056681587237484\n",
      "Mean Squared Error: 2295230040.094677\n"
     ]
    }
   ],
   "source": [
    "mse = mean_squared_error(y_test, y_pred)\n",
    "\n",
    "print(f'R-squared: {r2}')\n",
    "print(f'Mean Squared Error: {mse}')"
   ]
  },
  {
   "cell_type": "code",
   "execution_count": null,
   "id": "b591fd6d-4bee-439e-b1c4-24bf623546c0",
   "metadata": {},
   "outputs": [],
   "source": []
  }
 ],
 "metadata": {
  "kernelspec": {
   "display_name": "Python 3 (ipykernel)",
   "language": "python",
   "name": "python3"
  },
  "language_info": {
   "codemirror_mode": {
    "name": "ipython",
    "version": 3
   },
   "file_extension": ".py",
   "mimetype": "text/x-python",
   "name": "python",
   "nbconvert_exporter": "python",
   "pygments_lexer": "ipython3",
   "version": "3.11.3"
  }
 },
 "nbformat": 4,
 "nbformat_minor": 5
}
